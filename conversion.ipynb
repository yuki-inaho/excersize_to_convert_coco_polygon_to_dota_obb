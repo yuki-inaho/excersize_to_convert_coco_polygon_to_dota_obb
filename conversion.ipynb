{
 "cells": [
  {
   "cell_type": "code",
   "execution_count": 118,
   "metadata": {},
   "outputs": [
    {
     "name": "stdout",
     "output_type": "stream",
     "text": [
      "The autoreload extension is already loaded. To reload it, use:\n",
      "  %reload_ext autoreload\n"
     ]
    }
   ],
   "source": [
    "%load_ext autoreload\n",
    "%autoreload 2"
   ]
  },
  {
   "cell_type": "code",
   "execution_count": 119,
   "metadata": {},
   "outputs": [],
   "source": [
    "COCO_JSON_DATA = \"data/example.json\"\n",
    "OUTPUT_DIR = \"output\""
   ]
  },
  {
   "cell_type": "markdown",
   "metadata": {},
   "source": [
    "# Load dataset"
   ]
  },
  {
   "cell_type": "code",
   "execution_count": 120,
   "metadata": {},
   "outputs": [
    {
     "name": "stdout",
     "output_type": "stream",
     "text": [
      "loading annotations into memory...\n",
      "Done (t=0.00s)\n",
      "creating index...\n",
      "index created!\n"
     ]
    }
   ],
   "source": [
    "from pycocotools.coco import COCO\n",
    "coco_data = COCO(COCO_JSON_DATA)"
   ]
  },
  {
   "cell_type": "code",
   "execution_count": 121,
   "metadata": {},
   "outputs": [
    {
     "name": "stdout",
     "output_type": "stream",
     "text": [
      "{1: 'image1.jpg', 2: 'image2.jpg'}\n"
     ]
    }
   ],
   "source": [
    "image_file_dict_id2name = {image_data[\"id\"] : image_data[\"file_name\"] for image_data in coco_data.imgs.values()}\n",
    "print(image_file_dict_id2name)"
   ]
  },
  {
   "cell_type": "code",
   "execution_count": 122,
   "metadata": {},
   "outputs": [
    {
     "name": "stdout",
     "output_type": "stream",
     "text": [
      "{1: 'label1'}\n"
     ]
    }
   ],
   "source": [
    "category_dict_id2label = {category_data[\"id\"] : category_data[\"name\"] for category_data in coco_data.cats.values()}\n",
    "print(category_dict_id2label)"
   ]
  },
  {
   "cell_type": "code",
   "execution_count": 123,
   "metadata": {},
   "outputs": [],
   "source": [
    "import BboxToolkit\n",
    "from dataclasses import dataclass\n",
    "from typing import List\n",
    "\n",
    "\n",
    "@dataclass\n",
    "class OrientedBBox:\n",
    "    category_name: str\n",
    "    category_id: int\n",
    "    x: float\n",
    "    y: float\n",
    "    w: float\n",
    "    h: float\n",
    "    theta: float  # [rad]\n",
    "\n",
    "    def __str__(self):\n",
    "        return f\"x:{self.x}, y:{self.y}, w:{self.w}, h:{self.h}, theta:{self.theta * 180 / np.pi}[deg]\"\n",
    "\n",
    "    @property\n",
    "    def xywht(self):\n",
    "        return self.x, self.y, self.w, self.h, self.theta\n",
    "\n",
    "    @property\n",
    "    def xywht_as_str(self):\n",
    "        return f\"{self.x}, {self.y}, {self.w}, {self.h}, {self.theta}\"\n",
    "\n",
    "    @property\n",
    "    def polypoints_as_str(self):\n",
    "        polypoints = BboxToolkit.obb2poly(self.xywht)\n",
    "        poly_str = f\"{polypoints[0]}\"\n",
    "        for value in polypoints[1:]:\n",
    "            poly_str += f\" {value}\"\n",
    "        return poly_str\n"
   ]
  },
  {
   "cell_type": "code",
   "execution_count": 124,
   "metadata": {},
   "outputs": [
    {
     "name": "stdout",
     "output_type": "stream",
     "text": [
      "1:\n",
      " xywht:1530.134521484375, 1766.5614013671875, 1035.64990234375, 78.77658081054688, 1.0999574661254883\n",
      " poly:1729.9351806640625 1287.214111328125 1800.1400146484375 1322.949951171875 1330.3338623046875 2245.90869140625 1260.1290283203125 2210.1728515625\n"
     ]
    }
   ],
   "source": [
    "import BboxToolkit\n",
    "import numpy as np\n",
    "from typing import List, Dict\n",
    "\n",
    "\"\"\" Assign empty list to corresponding image\n",
    "\"\"\"\n",
    "dict_image_name_to_obbs: Dict[str, List[OrientedBBox]] = {}\n",
    "for image_file_name in image_file_dict_id2name.values():\n",
    "    dict_image_name_to_obbs[image_file_name] = []\n",
    "\n",
    "\n",
    "for annotation_data in coco_data.anns.values():\n",
    "    \"\"\"Load image and annotation data\"\"\"\n",
    "    image_id = annotation_data[\"image_id\"]\n",
    "    image_name = image_file_dict_id2name[image_id]\n",
    "    category_id = annotation_data[\"category_id\"]\n",
    "\n",
    "    \"\"\" Load and convert oriented bounding-box information\n",
    "    \"\"\"\n",
    "    assert len(annotation_data[\"segmentation\"]) == 1\n",
    "\n",
    "    obb_polygon = annotation_data[\"segmentation\"][0]  # obb: oriented bbox, quadruple pairs of (x_i, y_i)\n",
    "    assert len(obb_polygon) == 8\n",
    "\n",
    "    obb_ann_info = BboxToolkit.poly2obb(np.asarray(obb_polygon))\n",
    "    obb = OrientedBBox(\n",
    "        category_name=category_dict_id2label[category_id],\n",
    "        category_id=category_id,\n",
    "        x=obb_ann_info[0],\n",
    "        y=obb_ann_info[1],\n",
    "        w=obb_ann_info[2],\n",
    "        h=obb_ann_info[3],\n",
    "        theta=obb_ann_info[4],\n",
    "    )\n",
    "    ann_id = annotation_data[\"id\"]\n",
    "    print(f\"{ann_id}:\\n xywht:{obb.xywht_as_str}\\n poly:{obb.polypoints_as_str}\")\n",
    "\n",
    "    dict_image_name_to_obbs[image_name].append(obb)"
   ]
  },
  {
   "cell_type": "markdown",
   "metadata": {},
   "source": [
    "# Output data"
   ]
  },
  {
   "cell_type": "code",
   "execution_count": 125,
   "metadata": {},
   "outputs": [
    {
     "name": "stdout",
     "output_type": "stream",
     "text": [
      "{'image1.jpg': '1729.9351806640625 1287.214111328125 1800.1400146484375 1322.949951171875 1330.3338623046875 2245.90869140625 1260.1290283203125 2210.1728515625 label1 0', 'image2.jpg': ''}\n"
     ]
    }
   ],
   "source": [
    "import os\n",
    "from pathlib import Path\n",
    "\n",
    "output_dir_pathlib = Path(OUTPUT_DIR)\n",
    "\n",
    "\"\"\" Assign empty annotation text to corresponding key\n",
    "\"\"\"\n",
    "dict_image_name_to_annotation_text = {}\n",
    "for image_name in dict_image_name_to_obbs.keys():\n",
    "    dict_image_name_to_annotation_text[image_name] = \"\"\n",
    "\n",
    "\"\"\" Generate annotation text data to output\n",
    "\"\"\"\n",
    "for image_name, obb_list in dict_image_name_to_obbs.items():\n",
    "    for obb in obb_list:\n",
    "        annotation_str = f\"{obb.polypoints_as_str} {obb.category_name} 0\"\n",
    "        dict_image_name_to_annotation_text[image_name] += annotation_str\n",
    "print(dict_image_name_to_annotation_text)\n",
    "\n",
    "\"\"\" Dump\n",
    "\"\"\"\n",
    "for image_name, annotation_text_data in dict_image_name_to_annotation_text.items():\n",
    "    image_name_stem = output_dir_pathlib.joinpath(image_name).stem\n",
    "    output_text_file_pathlib = Path(OUTPUT_DIR, f\"{image_name_stem}.txt\")\n",
    "    if output_text_file_pathlib.exists():\n",
    "        os.remove(str(output_text_file_pathlib))\n",
    "    with open(str(output_text_file_pathlib), \"w\") as f:\n",
    "        f.write(annotation_text_data)"
   ]
  }
 ],
 "metadata": {
  "interpreter": {
   "hash": "5b4c6d2c5457d52eecb694f45ed85ce04802d7652c6b60f18275d31da81e641d"
  },
  "kernelspec": {
   "display_name": "Python 3.9.2 ('excersize-to-convert-coco-polygon-to-dota--uK4I9WCN-py3.9')",
   "language": "python",
   "name": "python3"
  },
  "language_info": {
   "codemirror_mode": {
    "name": "ipython",
    "version": 3
   },
   "file_extension": ".py",
   "mimetype": "text/x-python",
   "name": "python",
   "nbconvert_exporter": "python",
   "pygments_lexer": "ipython3",
   "version": "3.9.2"
  },
  "orig_nbformat": 4
 },
 "nbformat": 4,
 "nbformat_minor": 2
}
